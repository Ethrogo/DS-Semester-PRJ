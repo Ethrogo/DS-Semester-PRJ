{
 "cells": [
  {
   "cell_type": "markdown",
   "metadata": {},
   "source": [
    "GOAL: \n",
    "    -Takes in team data, ORTG, DRTG, Player Stats, etc. \n",
    "    -Determines a probable spread for two teams to matchup \n",
    "\n",
    "Steps\n",
    "    - Load data into"
   ]
  },
  {
   "cell_type": "code",
   "execution_count": null,
   "metadata": {},
   "outputs": [],
   "source": []
  }
 ],
 "metadata": {
  "language_info": {
   "name": "python"
  }
 },
 "nbformat": 4,
 "nbformat_minor": 2
}
